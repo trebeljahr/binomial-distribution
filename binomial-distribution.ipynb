{
 "cells": [
  {
   "cell_type": "code",
   "execution_count": 3,
   "metadata": {},
   "outputs": [
    {
     "output_type": "display_data",
     "data": {
      "text/plain": "interactive(children=(IntSlider(value=100, continuous_update=False, description='n', max=150, min=50), FloatSl…",
      "application/vnd.jupyter.widget-view+json": {
       "version_major": 2,
       "version_minor": 0,
       "model_id": "624f889b948644e2a74db8503140b141"
      }
     },
     "metadata": {}
    }
   ],
   "source": [
    "%matplotlib inline\n",
    "from __future__ import print_function\n",
    "from numpy import random\n",
    "import ipywidgets as widgets\n",
    "import matplotlib.pyplot as plt\n",
    "import seaborn as sns\n",
    "from ipywidgets import interactive\n",
    "import matplotlib.patches as mpatches\n",
    "\n",
    "def binomialPlot(n, p):\n",
    "    plt.close()\n",
    "    binom = random.binomial(n, p, size=10000)\n",
    "    normal = random.normal(loc=n*p, scale=5, size=10000)\n",
    "    sns.kdeplot(binom, color=sns.color_palette(\"Blues\")[2])\n",
    "    sns.kdeplot(normal, color=sns.color_palette(\"Reds\")[2])\n",
    "    label_patch = mpatches.Patch(\n",
    "        color=sns.color_palette(\"Blues\")[2],\n",
    "        label=\"Binomial\")\n",
    "    label_patch2 = mpatches.Patch(\n",
    "        color=sns.color_palette(\"Reds\")[2],\n",
    "        label=\"Normal\")\n",
    "    plt.legend(handles=[label_patch, label_patch2], loc='upper left')\n",
    "    \n",
    "    sns.displot(binom, color=sns.color_palette(\"Blues\")[2])\n",
    "    label_patch3 = mpatches.Patch(\n",
    "        color=sns.color_palette(\"Blues\")[2],\n",
    "        label=\"Binomial\")\n",
    "    plt.legend(handles=[label_patch3], loc='upper left')\n",
    "\n",
    "    sns.displot(normal, color=sns.color_palette(\"Reds\")[2])\n",
    "    label_patch3 = mpatches.Patch(\n",
    "        color=sns.color_palette(\"Reds\")[2],\n",
    "        label=\"Normal\")\n",
    "    plt.legend(handles=[label_patch3], loc='upper left')\n",
    "\n",
    "  \n",
    "    plt.show()\n",
    "    return\n",
    "\n",
    "interactive_plot = interactive(binomialPlot, \n",
    "                               n=widgets.IntSlider(value=100, min=50, max=150, step=1, continuous_update=False), \n",
    "                               p=widgets.FloatSlider(value=0.5, min=0.01, max=1, step=0.01, continuous_update=False))\n",
    "output = interactive_plot.children[-1]\n",
    "interactive_plot"
   ]
  },
  {
   "cell_type": "code",
   "execution_count": 10,
   "metadata": {},
   "outputs": [],
   "source": []
  }
 ],
 "metadata": {
  "kernelspec": {
   "display_name": "Python 3",
   "language": "python",
   "name": "python3"
  },
  "language_info": {
   "codemirror_mode": {
    "name": "ipython",
    "version": 3
   },
   "file_extension": ".py",
   "mimetype": "text/x-python",
   "name": "python",
   "nbconvert_exporter": "python",
   "pygments_lexer": "ipython3",
   "version": "3.8.5-final"
  }
 },
 "nbformat": 4,
 "nbformat_minor": 4
}